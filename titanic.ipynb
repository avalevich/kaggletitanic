{
 "cells": [
  {
   "cell_type": "code",
   "execution_count": 11,
   "metadata": {},
   "outputs": [
    {
     "name": "stdout",
     "output_type": "stream",
     "text": [
      "{'classifier__bootstrap': True, 'classifier__max_depth': 5, 'classifier__max_features': 3, 'classifier__min_samples_split': 4, 'classifier__n_estimators': 200, 'scaler__with_mean': True, 'scaler__with_std': False}\n"
     ]
    }
   ],
   "source": [
    "import numpy as np\n",
    "import pandas as pd\n",
    "import matplotlib.pyplot as plt\n",
    "from sklearn import metrics\n",
    "import os\n",
    "from sklearn.impute import SimpleImputer\n",
    "from sklearn.preprocessing import LabelEncoder\n",
    "from sklearn.model_selection import GridSearchCV\n",
    "from sklearn.model_selection import StratifiedKFold\n",
    "from sklearn.ensemble import RandomForestClassifier\n",
    "from sklearn.pipeline import Pipeline\n",
    "from sklearn.preprocessing import StandardScaler\n",
    "\n",
    "TITANIC_PATH = os.path.join(\"datasets\")\n",
    "def load_titanic_data(filename, titanic_path=TITANIC_PATH):\n",
    "    csv_path = os.path.join(titanic_path, filename)\n",
    "    return pd.read_csv(csv_path)\n",
    "\n",
    "train_data = load_titanic_data(\"train.csv\")\n",
    "test_data = load_titanic_data(\"test.csv\")\n",
    "y_train = train_data['Survived']\n",
    "X_train = train_data.drop('Survived', axis=1)\n",
    "\n",
    "X_test = test_data\n",
    "\n",
    "imputer = SimpleImputer(strategy='median')\n",
    "age_data_imputed = imputer.fit_transform(X_train[['Age']])\n",
    "X_train['Age'] = age_data_imputed\n",
    "\n",
    "age_data_imputed = imputer.fit_transform(X_test[['Age']])\n",
    "fare_data_imputed = imputer.fit_transform(X_test[['Fare']])\n",
    "X_test['Age'] = age_data_imputed\n",
    "X_test['Fare'] = fare_data_imputed\n",
    "\n",
    "label_encoder = LabelEncoder()\n",
    "for column in X_train.columns:\n",
    "    if X_train[column].dtype == 'object':  \n",
    "        X_train[column] = label_encoder.fit_transform(X_train[column])\n",
    "\n",
    "for column in X_test.columns:\n",
    "    if X_test[column].dtype == 'object':  \n",
    "        X_test[column] = label_encoder.fit_transform(X_test[column])\n",
    "\n",
    "X_train = X_train.drop(['Ticket', 'Name'], axis=1)\n",
    "X_test = X_test.drop(['Ticket', 'Name'], axis=1)\n",
    "\n",
    "kfold = StratifiedKFold(n_splits=5,shuffle=True, random_state=123)\n",
    "\n",
    "\n",
    "\n",
    "pipeline = Pipeline([('scaler', StandardScaler()), ('classifier', RandomForestClassifier())])\n",
    "\n",
    "param_grid = {\n",
    "    'scaler__with_mean': [True, False],  \n",
    "    'scaler__with_std': [True, False],\n",
    "    'classifier__n_estimators': [50, 100, 200],\n",
    "    'classifier__max_depth': [2, 5, 20],\n",
    "    'classifier__min_samples_split': [4, 5, 10],\n",
    "    'classifier__max_features': [4,5,7,10],\n",
    "    'classifier__bootstrap': [True]\n",
    "}\n",
    "\n",
    "grid = GridSearchCV(pipeline, param_grid, cv=kfold, return_train_score=True)\n",
    "grid.fit(X_train, y_train)\n",
    "print(grid.best_params_)\n",
    "result = grid.predict(X_test)\n",
    "df = pd.DataFrame()\n",
    "df['PassengerId'] = X_test['PassengerId']\n",
    "df['Survived'] = result\n",
    "df.to_csv('predictions.csv', index=False)\n"
   ]
  }
 ],
 "metadata": {
  "kernelspec": {
   "display_name": "base",
   "language": "python",
   "name": "python3"
  },
  "language_info": {
   "codemirror_mode": {
    "name": "ipython",
    "version": 3
   },
   "file_extension": ".py",
   "mimetype": "text/x-python",
   "name": "python",
   "nbconvert_exporter": "python",
   "pygments_lexer": "ipython3",
   "version": "3.9.16"
  },
  "orig_nbformat": 4
 },
 "nbformat": 4,
 "nbformat_minor": 2
}
